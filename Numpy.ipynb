{
  "nbformat": 4,
  "nbformat_minor": 0,
  "metadata": {
    "colab": {
      "provenance": [],
      "authorship_tag": "ABX9TyMnyU8sjTvp8H2C7nLXMbjR",
      "include_colab_link": true
    },
    "kernelspec": {
      "name": "python3",
      "display_name": "Python 3"
    },
    "language_info": {
      "name": "python"
    }
  },
  "cells": [
    {
      "cell_type": "markdown",
      "metadata": {
        "id": "view-in-github",
        "colab_type": "text"
      },
      "source": [
        "<a href=\"https://colab.research.google.com/github/vadlagayathri/machine-learning/blob/main/Numpy.ipynb\" target=\"_parent\"><img src=\"https://colab.research.google.com/assets/colab-badge.svg\" alt=\"Open In Colab\"/></a>"
      ]
    },
    {
      "cell_type": "code",
      "execution_count": null,
      "metadata": {
        "colab": {
          "base_uri": "https://localhost:8080/"
        },
        "id": "FfJTaJZHJWzu",
        "outputId": "0d40f4c3-9ba3-4b34-f2c2-6ceadbe86e17"
      },
      "outputs": [
        {
          "output_type": "stream",
          "name": "stdout",
          "text": [
            "[4 5 6 7 8 9]\n"
          ]
        }
      ],
      "source": [
        "import numpy as np\n",
        "\n",
        "new_arr = np.arange(4,10)\n",
        "print(new_arr)"
      ]
    },
    {
      "cell_type": "code",
      "source": [
        "#n d array\n",
        "import numpy as np\n",
        "arr_1d = np.array([1,2,3,4,5])\n",
        "print(arr_1d)\n",
        "print(arr_1d[2])"
      ],
      "metadata": {
        "colab": {
          "base_uri": "https://localhost:8080/"
        },
        "id": "QknENKcdKsHo",
        "outputId": "a8b52c4c-916a-4e95-ce39-b92d0ce913fd"
      },
      "execution_count": null,
      "outputs": [
        {
          "output_type": "stream",
          "name": "stdout",
          "text": [
            "[1 2 3 4 5]\n",
            "3\n"
          ]
        }
      ]
    },
    {
      "cell_type": "code",
      "source": [
        "#2 d array\n",
        "import numpy as np\n",
        "arr_2d = np.array([[1,2,3,4,5],\n",
        "                  [6,7,8,9,0],\n",
        "                  [11,12,13,14,15]])\n",
        "print(arr_2d)\n",
        "print(arr_2d[2,2])"
      ],
      "metadata": {
        "colab": {
          "base_uri": "https://localhost:8080/"
        },
        "id": "YjfvdhfEMkX0",
        "outputId": "6a7c9931-f679-4339-f652-5d9fdc03cf16"
      },
      "execution_count": null,
      "outputs": [
        {
          "output_type": "stream",
          "name": "stdout",
          "text": [
            "[[ 1  2  3  4  5]\n",
            " [ 6  7  8  9  0]\n",
            " [11 12 13 14 15]]\n",
            "13\n"
          ]
        }
      ]
    },
    {
      "cell_type": "code",
      "source": [
        "#Shape of an array\n",
        "arr_2d = np.array([[1,2,3,4,5],\n",
        "                  [6,7,8,9,0],\n",
        "                  [11,12,13,14,15]])\n",
        "print(\"Shpe of the array:\",arr_2d.shape)"
      ],
      "metadata": {
        "colab": {
          "base_uri": "https://localhost:8080/"
        },
        "id": "tdcHdgL2NMrl",
        "outputId": "2b569781-9bfb-464d-fada-98ca93bf979d"
      },
      "execution_count": null,
      "outputs": [
        {
          "output_type": "stream",
          "name": "stdout",
          "text": [
            "Shpe of the array: (3, 5)\n"
          ]
        }
      ]
    },
    {
      "cell_type": "code",
      "source": [
        "#DATATYPES IN NUMPY\n",
        "arr_float = np.array([1.1,2.2,3.3],dtype=np.float32)\n",
        "print(\"Datatype type of the array:\",arr_float.dtype)"
      ],
      "metadata": {
        "colab": {
          "base_uri": "https://localhost:8080/"
        },
        "id": "yp10IlsFNiPS",
        "outputId": "17c049cc-bfb6-4ada-9d1f-acb54aab66e9"
      },
      "execution_count": null,
      "outputs": [
        {
          "output_type": "stream",
          "name": "stdout",
          "text": [
            "Datatype type of the array: float32\n"
          ]
        }
      ]
    },
    {
      "cell_type": "code",
      "source": [
        "#creating 3d array\n",
        "arr_3d = np.zeros([2,2,3])\n",
        "print(arr_3d)\n",
        "print(arr_3d.dtype)\n",
        "print(\"Size of the array:\",arr_3d.size)"
      ],
      "metadata": {
        "colab": {
          "base_uri": "https://localhost:8080/"
        },
        "id": "QJpLFUxCOY6f",
        "outputId": "fb8aa405-2a11-44e3-8899-a4a6ffcf5a66"
      },
      "execution_count": null,
      "outputs": [
        {
          "output_type": "stream",
          "name": "stdout",
          "text": [
            "[[[0. 0. 0.]\n",
            "  [0. 0. 0.]]\n",
            "\n",
            " [[0. 0. 0.]\n",
            "  [0. 0. 0.]]]\n",
            "float64\n",
            "Size of the array: 12\n"
          ]
        }
      ]
    },
    {
      "cell_type": "code",
      "source": [
        "#creating 4d array\n",
        "arr_4d = np.ones([2,2,3,4])\n",
        "print(arr_4d)\n",
        "print(arr_4d.dtype)\n",
        "print(\"Size of the array:\",arr_4d.size)"
      ],
      "metadata": {
        "colab": {
          "base_uri": "https://localhost:8080/"
        },
        "id": "mklOKM0GPkcn",
        "outputId": "8bac0ca9-c1b3-429d-d9d3-7b134b40f145"
      },
      "execution_count": null,
      "outputs": [
        {
          "output_type": "stream",
          "name": "stdout",
          "text": [
            "[[[[1. 1. 1. 1.]\n",
            "   [1. 1. 1. 1.]\n",
            "   [1. 1. 1. 1.]]\n",
            "\n",
            "  [[1. 1. 1. 1.]\n",
            "   [1. 1. 1. 1.]\n",
            "   [1. 1. 1. 1.]]]\n",
            "\n",
            "\n",
            " [[[1. 1. 1. 1.]\n",
            "   [1. 1. 1. 1.]\n",
            "   [1. 1. 1. 1.]]\n",
            "\n",
            "  [[1. 1. 1. 1.]\n",
            "   [1. 1. 1. 1.]\n",
            "   [1. 1. 1. 1.]]]]\n",
            "float64\n",
            "Size of the array: 48\n"
          ]
        }
      ]
    },
    {
      "cell_type": "code",
      "source": [
        "#creating 5d array\n",
        "arr_5d = np.ones([2,2,3,4,1])\n",
        "print(arr_5d)\n",
        "print(arr_5d.dtype)\n",
        "print(\"Size of the array:\",arr_5d.size)"
      ],
      "metadata": {
        "colab": {
          "base_uri": "https://localhost:8080/"
        },
        "id": "SvNw3vuNQFvs",
        "outputId": "9a3d21e8-1094-4d09-9cd8-ee656d2bc411"
      },
      "execution_count": null,
      "outputs": [
        {
          "output_type": "stream",
          "name": "stdout",
          "text": [
            "[[[[[1.]\n",
            "    [1.]\n",
            "    [1.]\n",
            "    [1.]]\n",
            "\n",
            "   [[1.]\n",
            "    [1.]\n",
            "    [1.]\n",
            "    [1.]]\n",
            "\n",
            "   [[1.]\n",
            "    [1.]\n",
            "    [1.]\n",
            "    [1.]]]\n",
            "\n",
            "\n",
            "  [[[1.]\n",
            "    [1.]\n",
            "    [1.]\n",
            "    [1.]]\n",
            "\n",
            "   [[1.]\n",
            "    [1.]\n",
            "    [1.]\n",
            "    [1.]]\n",
            "\n",
            "   [[1.]\n",
            "    [1.]\n",
            "    [1.]\n",
            "    [1.]]]]\n",
            "\n",
            "\n",
            "\n",
            " [[[[1.]\n",
            "    [1.]\n",
            "    [1.]\n",
            "    [1.]]\n",
            "\n",
            "   [[1.]\n",
            "    [1.]\n",
            "    [1.]\n",
            "    [1.]]\n",
            "\n",
            "   [[1.]\n",
            "    [1.]\n",
            "    [1.]\n",
            "    [1.]]]\n",
            "\n",
            "\n",
            "  [[[1.]\n",
            "    [1.]\n",
            "    [1.]\n",
            "    [1.]]\n",
            "\n",
            "   [[1.]\n",
            "    [1.]\n",
            "    [1.]\n",
            "    [1.]]\n",
            "\n",
            "   [[1.]\n",
            "    [1.]\n",
            "    [1.]\n",
            "    [1.]]]]]\n",
            "float64\n",
            "Size of the array: 48\n"
          ]
        }
      ]
    },
    {
      "cell_type": "code",
      "source": [],
      "metadata": {
        "id": "muXmDQ58QTP2"
      },
      "execution_count": null,
      "outputs": []
    }
  ]
}